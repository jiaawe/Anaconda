{
 "cells": [
  {
   "cell_type": "code",
   "execution_count": 153,
   "metadata": {},
   "outputs": [],
   "source": [
    "import os\n",
    "import moviepy.editor as mp\n",
    "import librosa\n",
    "import joblib\n",
    "import pandas as pd\n",
    "import numpy as np\n",
    "import lightgbm as lgb\n",
    "import seaborn as sns\n",
    "from sklearn.model_selection import train_test_split, GridSearchCV\n",
    "from sklearn.preprocessing import LabelEncoder\n",
    "from sklearn.ensemble import RandomForestClassifier\n",
    "from imblearn.ensemble import BalancedRandomForestClassifier\n",
    "from sklearn.metrics import accuracy_score, confusion_matrix\n",
    "import matplotlib.pyplot as plt\n",
    "from tensorflow.keras.models import load_model, save_model\n"
   ]
  },
  {
   "cell_type": "code",
   "execution_count": 140,
   "metadata": {},
   "outputs": [
    {
     "name": "stdout",
     "output_type": "stream",
     "text": [
      "cuda_malloc_async\n",
      "Default GPU Device:/device:GPU:0\n"
     ]
    }
   ],
   "source": [
    "import tensorflow as tf\n",
    "import os\n",
    "tf.config.list_physical_devices('GPU')\n",
    "config = tf.compat.v1.ConfigProto()\n",
    "config.gpu_options.allow_growth = True\n",
    "session = tf.compat.v1.Session(config=config)\n",
    "os.environ['TF_FORCE_GPU_ALLOW_GROWTH'] = 'true'\n",
    "os.environ['TF_GPU_ALLOCATOR'] = 'cuda_malloc_async'\n",
    "print(os.getenv('TF_GPU_ALLOCATOR'))\n",
    "\n",
    "# testing if gpu is used\n",
    "\n",
    "if tf.test.gpu_device_name(): \n",
    "    print('Default GPU Device:{}'.format(tf.test.gpu_device_name()))\n",
    "else:\n",
    "   print(\"Please install GPU version of TF\")"
   ]
  },
  {
   "cell_type": "code",
   "execution_count": 141,
   "metadata": {},
   "outputs": [
    {
     "data": {
      "text/plain": [
       "label\n",
       "FAKE    19605\n",
       "REAL     3366\n",
       "Name: count, dtype: int64"
      ]
     },
     "execution_count": 141,
     "metadata": {},
     "output_type": "execute_result"
    }
   ],
   "source": [
    "json_file = 'audio/metadata.json'\n",
    "json_file2 = 'audio/metadata2.json'\n",
    "json_file3 = 'audio/metadata3.json'\n",
    "json_file4 = 'audio/metadata4.json'\n",
    "json_file5 = 'audio/metadata5.json'\n",
    "json_file6 = 'audio/metadata6.json'\n",
    "json_file46 = 'audio/metadata46.json'\n",
    "json_file47 = 'audio/metadata47.json'\n",
    "json_file48 = 'audio/metadata48.json'\n",
    "json_file49 = 'audio/metadata49.json'\n",
    "json_file50 = 'audio/metadata50.json'\n",
    "df = pd.read_json(json_file).T\n",
    "df2 = pd.read_json(json_file2).T\n",
    "df3 = pd.read_json(json_file3).T\n",
    "df4 = pd.read_json(json_file4).T\n",
    "df5 = pd.read_json(json_file5).T\n",
    "df6 = pd.read_json(json_file6).T\n",
    "df46 = pd.read_json(json_file46).T\n",
    "df47 = pd.read_json(json_file47).T\n",
    "df48 = pd.read_json(json_file48).T\n",
    "df49 = pd.read_json(json_file49).T\n",
    "df50 = pd.read_json(json_file50).T\n",
    "df = pd.concat([df, df2, df3, df4, df5, df6, df46, df47, df48, df49, df50])\n",
    "df['label'].value_counts()"
   ]
  },
  {
   "cell_type": "code",
   "execution_count": 142,
   "metadata": {},
   "outputs": [
    {
     "data": {
      "text/plain": [
       "label\n",
       "REAL    3366\n",
       "FAKE    3366\n",
       "Name: count, dtype: int64"
      ]
     },
     "execution_count": 142,
     "metadata": {},
     "output_type": "execute_result"
    }
   ],
   "source": [
    "# resampling\n",
    "fake_audio_df = df[df['label'] == 'FAKE']\n",
    "real_audio_df = df[df['label'] == 'REAL']\n",
    "\n",
    "# Determine the class with the fewer samples (assuming 'fake' class has fewer samples)\n",
    "min_samples = min(len(fake_audio_df), len(real_audio_df))\n",
    "\n",
    "# Resample both classes to have the same number of samples\n",
    "fake_audio_resampled = fake_audio_df.sample(min_samples, replace = False, random_state = 0)\n",
    "real_audio_resampled = real_audio_df.sample(min_samples, replace = False, random_state = 0)\n",
    "\n",
    "# Concatenate the resampled DataFrames back together\n",
    "balanced_df = pd.concat([fake_audio_resampled, real_audio_resampled], axis=0)\n",
    "\n",
    "# Shuffle the rows in the balanced DataFrame\n",
    "balanced_df = balanced_df.sample(frac=1, random_state = 0)\n",
    "balanced_df['label'].value_counts()\n"
   ]
  },
  {
   "cell_type": "code",
   "execution_count": 143,
   "metadata": {},
   "outputs": [
    {
     "name": "stdout",
     "output_type": "stream",
     "text": [
      "audio/ssoyfcbatv.mp4\n",
      "audio/epphrlkqhp.mp4\n",
      "audio/ubxlhztujz.mp4\n",
      "audio/rbvqghnbez.mp4\n",
      "audio/teehidqtii.mp4\n",
      "audio/pjibpowymk.mp4\n"
     ]
    }
   ],
   "source": [
    "X = []\n",
    "y = []\n",
    "\n",
    "# pre-processing\n",
    "for index, row in balanced_df.iterrows():\n",
    "    \n",
    "    # video path\n",
    "    label = row['label']\n",
    "    video_path = os.path.join(\"audio/\", index)\n",
    "    \n",
    "    # conversion to audio\n",
    "    video = mp.VideoFileClip(video_path)\n",
    "    \n",
    "    if video.audio == None:\n",
    "        print(video_path)\n",
    "        continue\n",
    "    \n",
    "    try:\n",
    "        audio = video.audio.to_soundarray()\n",
    "    \n",
    "    except:\n",
    "        print(video_path)\n",
    "        continue\n",
    "    \n",
    "    # MFCCs to extract audio\n",
    "    mfccs = librosa.feature.mfcc(y=audio[:, 0], sr=audio.shape[0], n_mfcc=13)\n",
    "    avg_mfccs = np.mean(mfccs, axis=1)\n",
    "    \n",
    "    # append to list\n",
    "    X.append(avg_mfccs)\n",
    "    y.append(label)"
   ]
  },
  {
   "cell_type": "code",
   "execution_count": 144,
   "metadata": {},
   "outputs": [
    {
     "data": {
      "text/plain": [
       "5044"
      ]
     },
     "execution_count": 144,
     "metadata": {},
     "output_type": "execute_result"
    }
   ],
   "source": [
    "# encode y\n",
    "label_encoder = LabelEncoder()\n",
    "y_encoded = label_encoder.fit_transform(y)\n",
    "\n",
    "# split the data into training and validation sets\n",
    "X_train, X_valid, y_train, y_valid = train_test_split(X, y_encoded, test_size=0.25, random_state=0)\n",
    "len(X_train)"
   ]
  },
  {
   "cell_type": "code",
   "execution_count": 126,
   "metadata": {},
   "outputs": [
    {
     "name": "stdout",
     "output_type": "stream",
     "text": [
      "Best Hyperparameters: {'bootstrap': True, 'class_weight': 'balanced_subsample', 'criterion': 'entropy', 'max_depth': 10, 'max_features': 'auto', 'min_samples_leaf': 5, 'min_samples_split': 2, 'n_estimators': 50}\n"
     ]
    }
   ],
   "source": [
    "\n",
    "# grid search train model\n",
    "param_grid = {\n",
    "    'n_estimators': [50, 100, 150, 200],\n",
    "    'max_depth': [None, 10, 20],\n",
    "    'min_samples_split': [2, 4, 6, 8, 10],\n",
    "    'min_samples_leaf': [1, 2, 3, 4, 5],\n",
    "    'max_features': ['auto', 'sqrt', 'log2'],\n",
    "    'bootstrap': [True, False],\n",
    "    'criterion': ['gini', 'entropy'],\n",
    "    'class_weight': [None, 'balanced', 'balanced_subsample'],\n",
    "    #'max_samples': [None, 0.5, 0.8]\n",
    "}\n",
    "\n",
    "rf = RandomForestClassifier(random_state = 0)\n",
    "grid_search = GridSearchCV(rf, param_grid, cv = 5, scoring = 'accuracy', n_jobs=-1)\n",
    "grid_search.fit(X_train, y_train)\n",
    "\n",
    "# get best hyperparams\n",
    "best_params = grid_search.best_params_\n",
    "print(\"Best Hyperparameters:\", best_params)\n",
    "\n",
    "# best model\n",
    "model = grid_search.best_estimator_"
   ]
  },
  {
   "cell_type": "code",
   "execution_count": 148,
   "metadata": {},
   "outputs": [],
   "source": [
    "# rf model\n",
    "model = RandomForestClassifier(random_state = 0, bootstrap = True, class_weight = 'balanced_subsample',criterion = 'entropy', max_depth = 10, max_features = 'auto', \n",
    "                               min_samples_leaf = 5, min_samples_split = 2, n_estimators = 50)\n",
    "model = model.fit(X_train, y_train)"
   ]
  },
  {
   "cell_type": "code",
   "execution_count": 115,
   "metadata": {},
   "outputs": [
    {
     "name": "stdout",
     "output_type": "stream",
     "text": [
      "[LightGBM] [Warning] Unknown parameter: criterion\n"
     ]
    }
   ],
   "source": [
    "# lgbm model\n",
    "lgbm = lgb.LGBMClassifier(random_state = 0, criterion = 'entropy')\n",
    "model = lgbm.fit(X_train, y_train)"
   ]
  },
  {
   "cell_type": "code",
   "execution_count": 149,
   "metadata": {},
   "outputs": [
    {
     "name": "stdout",
     "output_type": "stream",
     "text": [
      "Validation Accuracy: 0.7288941736028538\n"
     ]
    },
    {
     "data": {
      "image/png": "[encoded data removed]",
      "text/plain": [
       "<Figure size 800x600 with 2 Axes>"
      ]
     },
     "metadata": {},
     "output_type": "display_data"
    }
   ],
   "source": [
    "# model eval\n",
    "y_pred = model.predict(X_valid)\n",
    "accuracy = accuracy_score(y_valid, y_pred)\n",
    "print(f\"Validation Accuracy: {accuracy}\")\n",
    "\n",
    "# confusion matrix\n",
    "cm = confusion_matrix(y_valid, y_pred)\n",
    "labels = label_encoder.classes_\n",
    "plt.figure(figsize=(8, 6))\n",
    "sns.heatmap(cm, annot=True, fmt='d', cmap='Blues', xticklabels=labels, yticklabels=labels)\n",
    "plt.xlabel('Predicted')\n",
    "plt.ylabel('True')\n",
    "plt.title('Confusion Matrix')\n",
    "plt.show()"
   ]
  },
  {
   "cell_type": "code",
   "execution_count": 155,
   "metadata": {},
   "outputs": [
    {
     "data": {
      "text/plain": [
       "['audio.pkl']"
      ]
     },
     "execution_count": 155,
     "metadata": {},
     "output_type": "execute_result"
    }
   ],
   "source": [
    "# save model\n",
    "model_file_path = 'audio.pkl'\n",
    "joblib.dump(model, model_file_path)"
   ]
  }
 ],
 "metadata": {
  "kernelspec": {
   "display_name": "Python 3",
   "language": "python",
   "name": "python3"
  },
  "language_info": {
   "codemirror_mode": {
    "name": "ipython",
    "version": 3
   },
   "file_extension": ".py",
   "mimetype": "text/x-python",
   "name": "python",
   "nbconvert_exporter": "python",
   "pygments_lexer": "ipython3",
   "version": "3.10.11"
  },
  "orig_nbformat": 4
 },
 "nbformat": 4,
 "nbformat_minor": 2
}
